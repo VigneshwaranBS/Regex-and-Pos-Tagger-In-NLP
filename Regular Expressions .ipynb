{
 "cells": [
  {
   "cell_type": "code",
   "execution_count": 2,
   "id": "f2a9c8bf",
   "metadata": {},
   "outputs": [],
   "source": [
    "import re"
   ]
  },
  {
   "cell_type": "code",
   "execution_count": 5,
   "id": "600be93a",
   "metadata": {},
   "outputs": [],
   "source": [
    "chat1='Hello, I am having an issue with my order # 412889912'\n"
   ]
  },
  {
   "cell_type": "code",
   "execution_count": 9,
   "id": "cc6cc420",
   "metadata": {},
   "outputs": [],
   "source": [
    "chat2='I have a problem with my order number 412889912'\n"
   ]
  },
  {
   "cell_type": "code",
   "execution_count": 12,
   "id": "bef43f75",
   "metadata": {},
   "outputs": [],
   "source": [
    "chat3='codebasics: My order 412889912 is having an issue, I was charged 300$ when online it says 280$'\n"
   ]
  },
  {
   "cell_type": "code",
   "execution_count": 14,
   "id": "7cdf89a9",
   "metadata": {},
   "outputs": [],
   "source": [
    "pattern = 'order[^\\d]*(\\d*)'\n",
    "matches = re.findall(pattern , chat3)"
   ]
  },
  {
   "cell_type": "code",
   "execution_count": 15,
   "id": "e58602e5",
   "metadata": {},
   "outputs": [
    {
     "data": {
      "text/plain": [
       "'412889912'"
      ]
     },
     "execution_count": 15,
     "metadata": {},
     "output_type": "execute_result"
    }
   ],
   "source": [
    "matches[0]"
   ]
  },
  {
   "cell_type": "markdown",
   "id": "4b1e1c59",
   "metadata": {},
   "source": [
    "Retrieve email id and phone\n"
   ]
  },
  {
   "cell_type": "code",
   "execution_count": 19,
   "id": "fd65b079",
   "metadata": {},
   "outputs": [],
   "source": [
    "chat1 = ' you ask lot of questions 😠  1235678912, abc@xyz.com'\n",
    "chat2 = 'here it is: (123)-567-8912, abc@xyz.com'\n",
    "chat3 = 'yes phone: 1235678912 email: abc@xyz.com'"
   ]
  },
  {
   "cell_type": "code",
   "execution_count": 35,
   "id": "f5be6d1f",
   "metadata": {},
   "outputs": [
    {
     "data": {
      "text/plain": [
       "[('1235678912', '', ''), ('', '', 'abc@xyz.com')]"
      ]
     },
     "execution_count": 35,
     "metadata": {},
     "output_type": "execute_result"
    }
   ],
   "source": [
    "pattern = '(\\d{10})|(\\(\\d{3}\\)-\\d{3}-\\d{4})|([a-z0-0A-Z]*@[a-z]*.[a-z]*)'\n",
    "matches = re.findall(pattern , chat3)\n",
    "matches"
   ]
  },
  {
   "cell_type": "markdown",
   "id": "1df16559",
   "metadata": {},
   "source": [
    "## Regex for Information Extraction\n",
    "\n"
   ]
  },
  {
   "cell_type": "code",
   "execution_count": 55,
   "id": "8fa0ad74",
   "metadata": {},
   "outputs": [],
   "source": [
    "text='''\n",
    "Born\tElon Reeve Musk\n",
    "June 28, 1971 (age 50)\n",
    "Pretoria, Transvaal, South Africa\n",
    "Citizenship\t\n",
    "South Africa (1971–present)\n",
    "Canada (1971–present)\n",
    "United States (2002–present)\n",
    "Education\tUniversity of Pennsylvania (BS, BA)\n",
    "Title\t\n",
    "Founder, CEO and Chief Engineer of SpaceX\n",
    "CEO and product architect of Tesla, Inc.\n",
    "Founder of The Boring Company and X.com (now part of PayPal)\n",
    "Co-founder of Neuralink, OpenAI, and Zip2\n",
    "Spouse(s)\t\n",
    "Justine Wilson\n",
    "​\n",
    "​(m. 2000; div. 2008)​\n",
    "Talulah Riley\n",
    "​\n",
    "​(m. 2010; div. 2012)​\n",
    "​\n",
    "​(m. 2013; div. 2016)\n",
    "'''"
   ]
  },
  {
   "cell_type": "code",
   "execution_count": 38,
   "id": "f9ea56e2",
   "metadata": {},
   "outputs": [
    {
     "data": {
      "text/plain": [
       "'50'"
      ]
     },
     "execution_count": 38,
     "metadata": {},
     "output_type": "execute_result"
    }
   ],
   "source": [
    "#age\n",
    "pattern = 'age (\\d+)'\n",
    "matches = re.findall(pattern , text)\n",
    "matches[0]\n"
   ]
  },
  {
   "cell_type": "code",
   "execution_count": 42,
   "id": "091280f3",
   "metadata": {},
   "outputs": [
    {
     "data": {
      "text/plain": [
       "['\\tElon Reeve Musk']"
      ]
     },
     "execution_count": 42,
     "metadata": {},
     "output_type": "execute_result"
    }
   ],
   "source": [
    "#full name\n",
    "pattern = 'Born(.*)'\n",
    "matches = re.findall(pattern , text)\n",
    "matches\n"
   ]
  },
  {
   "cell_type": "code",
   "execution_count": 43,
   "id": "985e656d",
   "metadata": {},
   "outputs": [
    {
     "data": {
      "text/plain": [
       "['June 28, 1971 ']"
      ]
     },
     "execution_count": 43,
     "metadata": {},
     "output_type": "execute_result"
    }
   ],
   "source": [
    "# DOB\n",
    "pattern = 'Born.*\\n(.*)\\(age'\n",
    "matches = re.findall(pattern , text)\n",
    "matches\n"
   ]
  },
  {
   "cell_type": "code",
   "execution_count": 45,
   "id": "8bd0ea74",
   "metadata": {},
   "outputs": [
    {
     "data": {
      "text/plain": [
       "['Pretoria, Transvaal, South Africa']"
      ]
     },
     "execution_count": 45,
     "metadata": {},
     "output_type": "execute_result"
    }
   ],
   "source": [
    "# Birth place\n",
    "pattern = 'age.*\\n(.*)'\n",
    "matches = re.findall(pattern , text)\n",
    "matches\n"
   ]
  },
  {
   "cell_type": "code",
   "execution_count": 46,
   "id": "35e0daf8",
   "metadata": {},
   "outputs": [],
   "source": [
    "def get_pattern_match(pattern, text):\n",
    "    matches = re.findall(pattern, text)\n",
    "    if matches:\n",
    "        return matches[0]"
   ]
  },
  {
   "cell_type": "code",
   "execution_count": 56,
   "id": "e5ad6ff3",
   "metadata": {},
   "outputs": [],
   "source": [
    "def personal_info(text):\n",
    "    age = get_pattern_match('age (\\d+)', text)\n",
    "    name = get_pattern_match('Born(.*)',text)\n",
    "    dob= get_pattern_match( 'Born.*\\n(.*)\\(age' ,text)\n",
    "    place = get_pattern_match( 'age.*\\n(.*)',text)\n",
    "    \n",
    "    return {\n",
    "        'age':age,\n",
    "        'name':name.strip(),\n",
    "        'DOB':dob.strip(),\n",
    "        'place' :place.strip()\n",
    "    }"
   ]
  },
  {
   "cell_type": "code",
   "execution_count": 57,
   "id": "90741e0d",
   "metadata": {},
   "outputs": [
    {
     "data": {
      "text/plain": [
       "{'age': '50',\n",
       " 'name': 'Elon Reeve Musk',\n",
       " 'DOB': 'June 28, 1971',\n",
       " 'place': 'Pretoria, Transvaal, South Africa'}"
      ]
     },
     "execution_count": 57,
     "metadata": {},
     "output_type": "execute_result"
    }
   ],
   "source": [
    "personal_info(text)"
   ]
  },
  {
   "cell_type": "code",
   "execution_count": 60,
   "id": "b14e30b3",
   "metadata": {},
   "outputs": [],
   "source": [
    "text = '''\n",
    "Born\tPichai Sundararajan\n",
    "June 10, 1972 (age 50)\n",
    "Madurai, Tamil Nadu, India\n",
    "Education\tIIT Kharagpur (BTech)\n",
    "Stanford University (MS)\n",
    "University of Pennsylvania (MBA)\n",
    "Title\tCEO of Alphabet and Google\n",
    "Board member of\t\n",
    "Alphabet Inc.[1]\n",
    "Magic Leap (2014–2018)[2]\n",
    "Spouse\tAnjali Pichai\n",
    "Children\t2\n",
    "Awards\tPadma Bhushan Ribbon.svg Padma Bhushan (2022)\n",
    "'''"
   ]
  },
  {
   "cell_type": "code",
   "execution_count": 62,
   "id": "980866d0",
   "metadata": {},
   "outputs": [],
   "source": [
    "def personal_info(text):\n",
    "    age = get_pattern_match('age (\\d+)', text)\n",
    "    name = get_pattern_match('Born(.*)',text)\n",
    "    dob= get_pattern_match( 'Born.*\\n(.*)\\(age' ,text)\n",
    "    place = get_pattern_match( 'age.*\\n(.*)',text)\n",
    "    \n",
    "    return {\n",
    "        'age':age,\n",
    "        'name':name.strip(),\n",
    "        'DOB':dob.strip(),\n",
    "        'place' :place.strip()\n",
    "    }"
   ]
  },
  {
   "cell_type": "code",
   "execution_count": 63,
   "id": "5853e933",
   "metadata": {},
   "outputs": [
    {
     "data": {
      "text/plain": [
       "{'age': '50',\n",
       " 'name': 'Pichai Sundararajan',\n",
       " 'DOB': 'June 10, 1972',\n",
       " 'place': 'Madurai, Tamil Nadu, India'}"
      ]
     },
     "execution_count": 63,
     "metadata": {},
     "output_type": "execute_result"
    }
   ],
   "source": [
    "personal_info(text)"
   ]
  },
  {
   "cell_type": "markdown",
   "id": "786696c9",
   "metadata": {},
   "source": [
    "# EXERCISE "
   ]
  },
  {
   "cell_type": "code",
   "execution_count": 64,
   "id": "640f0e0e",
   "metadata": {},
   "outputs": [],
   "source": [
    "text = '''\n",
    "Follow our leader Elon musk on twitter here: https://twitter.com/elonmusk, more information \n",
    "on Tesla's products can be found at https://www.tesla.com/. Also here are leading influencers \n",
    "for tesla related news,\n",
    "https://twitter.com/teslarati\n",
    "https://twitter.com/dummy_tesla\n",
    "https://twitter.com/dummy_2_tesla\n",
    "'''"
   ]
  },
  {
   "cell_type": "code",
   "execution_count": 65,
   "id": "57ee94a1",
   "metadata": {},
   "outputs": [
    {
     "data": {
      "text/plain": [
       "['elonmusk', 'teslarati', 'dummy_tesla', 'dummy_2_tesla']"
      ]
     },
     "execution_count": 65,
     "metadata": {},
     "output_type": "execute_result"
    }
   ],
   "source": [
    "pattern = 'https://twitter\\.com/([a-zA-Z0-9_]+)'\n",
    "\n",
    "re.findall(pattern, text)"
   ]
  },
  {
   "cell_type": "code",
   "execution_count": 67,
   "id": "888f1adc",
   "metadata": {},
   "outputs": [],
   "source": [
    "text = '''\n",
    "Concentration of Risk: Credit Risk\n",
    "Financial instruments that potentially subject us to a concentration of credit risk consist of cash, cash equivalents, marketable securities,\n",
    "restricted cash, accounts receivable, convertible note hedges, and interest rate swaps. Our cash balances are primarily invested in money market funds\n",
    "or on deposit at high credit quality financial institutions in the U.S. These deposits are typically in excess of insured limits. As of September 30, 2021\n",
    "and December 31, 2020, no entity represented 10% or more of our total accounts receivable balance. The risk of concentration for our convertible note\n",
    "hedges and interest rate swaps is mitigated by transacting with several highly-rated multinational banks.\n",
    "Concentration of Risk: Supply Risk\n",
    "We are dependent on our suppliers, including single source suppliers, and the inability of these suppliers to deliver necessary components of our\n",
    "products in a timely manner at prices, quality levels and volumes acceptable to us, or our inability to efficiently manage these components from these\n",
    "suppliers, could have a material adverse effect on our business, prospects, financial condition and operating results.\n",
    "'''"
   ]
  },
  {
   "cell_type": "code",
   "execution_count": 69,
   "id": "e8e9ffd1",
   "metadata": {},
   "outputs": [
    {
     "data": {
      "text/plain": [
       "['Credit Risk', 'Supply Risk']"
      ]
     },
     "execution_count": 69,
     "metadata": {},
     "output_type": "execute_result"
    }
   ],
   "source": [
    "pattern = 'Concentration of Risk: ([^\\n]*)'\n",
    "\n",
    "re.findall(pattern, text)\n"
   ]
  },
  {
   "cell_type": "code",
   "execution_count": 72,
   "id": "8521c718",
   "metadata": {},
   "outputs": [],
   "source": [
    "text = '''\n",
    "Tesla's gross cost of operating lease vehicles in FY2021 Q1 was $4.85 billion.\n",
    "BMW's gross cost of operating vehicles in FY2021 S1 was $8 billion.\n",
    "'''"
   ]
  },
  {
   "cell_type": "code",
   "execution_count": 73,
   "id": "9f3056c7",
   "metadata": {},
   "outputs": [
    {
     "data": {
      "text/plain": [
       "['2021 Q1', '2021 S1']"
      ]
     },
     "execution_count": 73,
     "metadata": {},
     "output_type": "execute_result"
    }
   ],
   "source": [
    "pattern = 'FY(\\d{4} (?:Q[1-4]|S[1-2]))'\n",
    "matches = re.findall(pattern, text)\n",
    "matches"
   ]
  },
  {
   "cell_type": "markdown",
   "id": "08df8c68",
   "metadata": {},
   "source": [
    "# Advanced"
   ]
  },
  {
   "cell_type": "code",
   "execution_count": 74,
   "id": "1e63efda",
   "metadata": {},
   "outputs": [],
   "source": [
    "text='''\n",
    "Elon musk's phone number is 9991116666, call him if you have any questions on dodgecoin. Tesla's revenue is 40 billion\n",
    "Tesla's CFO number (999)-333-7777\n",
    "'''"
   ]
  },
  {
   "cell_type": "code",
   "execution_count": 75,
   "id": "b37dad90",
   "metadata": {},
   "outputs": [
    {
     "data": {
      "text/plain": [
       "['9991116666', '(999)-333-7777']"
      ]
     },
     "execution_count": 75,
     "metadata": {},
     "output_type": "execute_result"
    }
   ],
   "source": [
    "pattern = '\\(\\d{3}\\)-\\d{3}-\\d{4}|\\d{10}'\n",
    "match = re.findall(pattern , text)\n",
    "match"
   ]
  },
  {
   "cell_type": "code",
   "execution_count": 76,
   "id": "dd307aa2",
   "metadata": {},
   "outputs": [],
   "source": [
    "# Extract title\n",
    "text = '''\n",
    "Note 1 - Overview\n",
    "Tesla, Inc. (“Tesla”, the “Company”, “we”, “us” or “our”) was incorporated in the State of Delaware on July 1, 2003. We design, develop, manufacture and sell high-performance fully electric vehicles and design, manufacture, install and sell solar energy generation and energy storage\n",
    "products. Our Chief Executive Officer, as the chief operating decision maker (“CODM”), organizes our company, manages resource allocations and measures performance among two operating and reportable segments: (i) automotive and (ii) energy generation and storage.\n",
    "Beginning in the first quarter of 2021, there has been a trend in many parts of the world of increasing availability and administration of vaccines\n",
    "against COVID-19, as well as an easing of restrictions on social, business, travel and government activities and functions. On the other hand, infection\n",
    "rates and regulations continue to fluctuate in various regions and there are ongoing global impacts resulting from the pandemic, including challenges\n",
    "and increases in costs for logistics and supply chains, such as increased port congestion, intermittent supplier delays and a shortfall of semiconductor\n",
    "supply. We have also previously been affected by temporary manufacturing closures, employment and compensation adjustments and impediments to\n",
    "administrative activities supporting our product deliveries and deployments.\n",
    "Note 2 - Summary of Significant Accounting Policies\n",
    "Unaudited Interim Financial Statements\n",
    "The consolidated balance sheet as of September 30, 2021, the consolidated statements of operations, the consolidated statements of\n",
    "comprehensive income, the consolidated statements of redeemable noncontrolling interests and equity for the three and nine months ended September\n",
    "30, 2021 and 2020 and the consolidated statements of cash flows for the nine months ended September 30, 2021 and 2020, as well as other information\n",
    "disclosed in the accompanying notes, are unaudited. The consolidated balance sheet as of December 31, 2020 was derived from the audited\n",
    "consolidated financial statements as of that date. The interim consolidated financial statements and the accompanying notes should be read in\n",
    "conjunction with the annual consolidated financial statements and the accompanying notes contained in our Annual Report on Form 10-K for the year\n",
    "ended December 31, 2020.\n",
    "'''"
   ]
  },
  {
   "cell_type": "code",
   "execution_count": 78,
   "id": "6c34c412",
   "metadata": {},
   "outputs": [
    {
     "data": {
      "text/plain": [
       "['Overview', 'Summary of Significant Accounting Policies']"
      ]
     },
     "execution_count": 78,
     "metadata": {},
     "output_type": "execute_result"
    }
   ],
   "source": [
    "pattern= 'Note \\d - ([^\\n]*)'\n",
    "match = re.findall(pattern , text)\n",
    "match"
   ]
  },
  {
   "cell_type": "code",
   "execution_count": 80,
   "id": "7286256e",
   "metadata": {},
   "outputs": [],
   "source": [
    "text = '''\n",
    "Tesla's gross cost of operating lease vehicles in FY2021 Q1 was $4.85 billion. \n",
    "In previous quarter i.e. FY2020 Q4 it was $3 billion.\n",
    "'''\n"
   ]
  },
  {
   "cell_type": "code",
   "execution_count": 81,
   "id": "ea9d1306",
   "metadata": {},
   "outputs": [
    {
     "data": {
      "text/plain": [
       "['4.85', '3']"
      ]
     },
     "execution_count": 81,
     "metadata": {},
     "output_type": "execute_result"
    }
   ],
   "source": [
    "pattern= '\\$([0-9\\.]*)'\n",
    "match = re.findall(pattern , text)\n",
    "match"
   ]
  },
  {
   "cell_type": "code",
   "execution_count": 85,
   "id": "9ff5aae7",
   "metadata": {
    "scrolled": true
   },
   "outputs": [
    {
     "data": {
      "text/plain": [
       "[('2021 Q1', '4.85'), ('2020 Q4', '3')]"
      ]
     },
     "execution_count": 85,
     "metadata": {},
     "output_type": "execute_result"
    }
   ],
   "source": [
    "pattern= 'FY(\\d{4} Q[1-4])[^\\$]+\\$([0-9\\.]+)'\n",
    "\n",
    "match = re.findall(pattern , text)\n",
    "match"
   ]
  },
  {
   "cell_type": "code",
   "execution_count": 89,
   "id": "9c1e913f",
   "metadata": {},
   "outputs": [
    {
     "data": {
      "text/plain": [
       "<re.Match object; span=(51, 70), match='FY2021 Q1 was $4.85'>"
      ]
     },
     "execution_count": 89,
     "metadata": {},
     "output_type": "execute_result"
    }
   ],
   "source": [
    "pattern= 'FY(\\d{4} Q[1-4])[^\\$]+\\$([0-9\\.]+)'\n",
    "\n",
    "match = re.search(pattern , text)\n",
    "match"
   ]
  },
  {
   "cell_type": "code",
   "execution_count": 90,
   "id": "985603e0",
   "metadata": {},
   "outputs": [
    {
     "data": {
      "text/plain": [
       "('2021 Q1', '4.85')"
      ]
     },
     "execution_count": 90,
     "metadata": {},
     "output_type": "execute_result"
    }
   ],
   "source": [
    "match.groups()"
   ]
  },
  {
   "cell_type": "code",
   "execution_count": null,
   "id": "2691413d",
   "metadata": {},
   "outputs": [],
   "source": []
  }
 ],
 "metadata": {
  "kernelspec": {
   "display_name": "Python 3 (ipykernel)",
   "language": "python",
   "name": "python3"
  },
  "language_info": {
   "codemirror_mode": {
    "name": "ipython",
    "version": 3
   },
   "file_extension": ".py",
   "mimetype": "text/x-python",
   "name": "python",
   "nbconvert_exporter": "python",
   "pygments_lexer": "ipython3",
   "version": "3.10.4"
  }
 },
 "nbformat": 4,
 "nbformat_minor": 5
}
